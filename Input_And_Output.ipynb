{
  "nbformat": 4,
  "nbformat_minor": 0,
  "metadata": {
    "colab": {
      "name": "Input And Output.ipynb",
      "private_outputs": true,
      "provenance": [],
      "include_colab_link": true
    },
    "kernelspec": {
      "name": "python3",
      "display_name": "Python 3"
    },
    "language_info": {
      "name": "python"
    }
  },
  "cells": [
    {
      "cell_type": "markdown",
      "metadata": {
        "id": "view-in-github",
        "colab_type": "text"
      },
      "source": [
        "<a href=\"https://colab.research.google.com/github/smikerin/IT-211/blob/main/Input_And_Output.ipynb\" target=\"_parent\"><img src=\"https://colab.research.google.com/assets/colab-badge.svg\" alt=\"Open In Colab\"/></a>"
      ]
    },
    {
      "cell_type": "markdown",
      "source": [
        "# Input, Output, and Importing Other Classes\n",
        "\n",
        "We've been writing code since week one that output something to the console.  In fact, our very first program output \"Hello world!\", so we've been doing output from the beginning, but how would we take user input?\n",
        "\n",
        "Pretty much all programming languages can do this.  To do this in Java we use a Class called Scanner.  Scanner is not available in the standard builtins so we need to import it at the beginning of the script using the line:\n",
        "\n",
        "```\n",
        "import java.util.Scanner;\n",
        "```\n",
        "\n",
        "This specifies to Java which scanner we mean.  There might be multiple classes available all with the name Scanner and they might do different things.\n",
        "\n",
        "After we import Scanner, we need to initialize it, which means constructing an instance of the Scanner class (as an object) and assigning it to the variable `in` datatype `Scanner`.\n",
        "\n",
        "```\n",
        "Scanner in = new Scanner(System.in);\n",
        "\n",
        "```\n",
        "\n",
        "Once we've done that, we can access some of the methods of the Scanner class (we'll cover what this means in class) and use it to store user input in variables!  We do that by pre-declaring the variables we're going to use: \n",
        "\n",
        "```\n",
        "String line;\n",
        "```\n",
        "\n",
        "then populating them with the `.nextLine()` method:\n",
        "\n",
        "```\n",
        "line = in.nextLine();\n",
        "```\n",
        "\n",
        "This part is a little complicated, but we're going to focus on it, so please ask questions until it makes sense!\n"
      ],
      "metadata": {
        "id": "qAGjwTA2OXaK"
      }
    },
    {
      "cell_type": "code",
      "execution_count": null,
      "metadata": {
        "id": "vJNPLyZgOTZ2"
      },
      "outputs": [],
      "source": [
        "%%writefile Echo.java\n",
        "import java.util.Scanner;  // We have to import the scanner class \n",
        "\n",
        "public class Echo {\n",
        "\n",
        "    public static void main(String[] args) {\n",
        "        String machineName = \"HappyBot\"; // You can change this to be whatever you want!\n",
        "        String line;\n",
        "        Scanner in = new Scanner(System.in);\n",
        "\n",
        "        System.out.print(\"What is your name? \");\n",
        "        line = in.nextLine();\n",
        "        System.out.println(\"Hello \" + line + \" nice to meet you! My name is \" + machineName);\n",
        "\n",
        "        System.out.print(\"What can I do for you today? \" );\n",
        "        line = in.nextLine();\n",
        "        System.out.println(\"Okay, I will try to \" + line + \" but I may need you to build that functionality!\");\n",
        "    }\n",
        "}"
      ]
    },
    {
      "cell_type": "code",
      "source": [
        "!javac Echo.java\n",
        "!java Echo"
      ],
      "metadata": {
        "id": "N0cJlReoPB5q"
      },
      "execution_count": null,
      "outputs": []
    },
    {
      "cell_type": "markdown",
      "source": [
        "# Assigning input to multiple variables\n",
        "You can use multiple variables, you just need to set them up, as in the code below!\n"
      ],
      "metadata": {
        "id": "V1x6lGPTNNTO"
      }
    },
    {
      "cell_type": "code",
      "source": [
        "%%writefile MultiVar.java\n",
        "import java.util.Scanner;  // We have to import the scanner class \n",
        "\n",
        "public class MultiVar {\n",
        "\n",
        "    public static void main(String[] args) {\n",
        "        String machineName = \"HappyBot\"; // You can change this to be whatever you want!\n",
        "        String name;\n",
        "        String task;\n",
        "        Scanner in = new Scanner(System.in);\n",
        "\n",
        "        System.out.print(\"What is your name? \");\n",
        "        name = in.nextLine();\n",
        "        System.out.println(\"Hello \" + name + \" nice to meet you! My name is \" + machineName);\n",
        "\n",
        "        System.out.print(\"What can I do for you today? \" );\n",
        "        task = in.nextLine();\n",
        "        System.out.println(\"Okay, I will try to \" + task + \", \" + name + \" but I may need you to build me that functionality!\");\n",
        "    }\n",
        "}"
      ],
      "metadata": {
        "id": "5gcwozmpn03b"
      },
      "execution_count": null,
      "outputs": []
    },
    {
      "cell_type": "code",
      "source": [
        "!javac MultiVar.java\n",
        "!java MultiVar"
      ],
      "metadata": {
        "id": "ipyy9cwvn6xB"
      },
      "execution_count": null,
      "outputs": []
    },
    {
      "cell_type": "markdown",
      "source": [
        "# Scanner Bug!!\n",
        "\n",
        "```\n",
        "System.out.print(\"What is your age? \");\n",
        "age = in.nextInt();\n",
        "System.out.print(\"What is your name? \");\n",
        "name = in.nextLine();\n",
        "System.out.printf(\"Hello %s, age %d\\n\", name, age);\n",
        "```\n",
        "\n",
        "Try running this example code. It doesn’t let you input your name, and it immediately displays the output:\n",
        "\n",
        "```\n",
        "What is your name? Hello , age 45\n",
        "```\n",
        "\n",
        "To solve this problem, you need an extra nextLine after nextInt:\n",
        "\n",
        "```\n",
        "System.out.print(\"What is your age? \");\n",
        "age = in.nextInt();\n",
        "in.nextLine();  // read the newline\n",
        "System.out.print(\"What is your name? \");\n",
        "name = in.nextLine();\n",
        "System.out.printf(\"Hello %s, age %d\\n\", name, age);\n",
        "```\n",
        "\n",
        "This technique is common when reading int or double values that appear on their own line. First you read the number, and then you read the rest of the line, which is just a newline character"
      ],
      "metadata": {
        "id": "ExE7txv2WVDp"
      }
    },
    {
      "cell_type": "code",
      "source": [
        "%%writefile ScannerBug.java\n",
        "import java.util.Scanner;  // We have to import the scanner class \n",
        "\n",
        "public class ScannerBug {\n",
        "\n",
        "    public static void main(String[] args) {\n",
        "        int age;\n",
        "        String name;\n",
        "        Scanner in = new Scanner(System.in);\n",
        "\n",
        "        \n",
        "        System.out.print(\"What is your age? \");\n",
        "        age = in.nextInt();\n",
        "        System.out.print(\"What is your name? \");\n",
        "        name = in.nextLine();\n",
        "        System.out.printf(\"Hello %s, age %d\\n\", name, age);\n",
        "\n",
        "    }\n",
        "}"
      ],
      "metadata": {
        "id": "zLOIQN2zXJJ2"
      },
      "execution_count": null,
      "outputs": []
    },
    {
      "cell_type": "code",
      "source": [
        "!javac ScannerBug.java\n",
        "!java ScannerBug"
      ],
      "metadata": {
        "id": "jQKV3jvAXRe9"
      },
      "execution_count": null,
      "outputs": []
    },
    {
      "cell_type": "markdown",
      "source": [
        "# Lab\n",
        "\n",
        "Break the code below in the following ways and record the errors you get.  This is a way for you to familiarize yourself with comilation errors ahead of time to assist with debugging when you see them in the future.  Note that instead of deleting a line, comment it out with //.\n",
        "\n",
        "For each of the following:\n",
        "   1. record the thing you are going to test\n",
        "   2. comment out the line\n",
        "   3. run the code\n",
        "   4. record the error you recived\n",
        "   5. uncomment the line\n",
        "   6. make sure the code runs cleanly\n",
        "   7. then proceed to the next test in the list!\n",
        "\n",
        "   * Comment out the Scanner import line (Line 2)\n",
        "   * Comment out the String declaration line (Line 7)\n",
        "   * Comment out the Scanner initialization line (Line 8)\n",
        "   * Comment out the grabbing user input line (Line 12)\n"
      ],
      "metadata": {
        "id": "bxX_NKI0SacA"
      }
    },
    {
      "cell_type": "code",
      "source": [
        "%%writefile Lab1.java\n",
        "import java.util.Scanner;  // Import the Scanner class \n",
        "\n",
        "public class Lab1 {\n",
        "\n",
        "    public static void main(String[] args) {\n",
        "        String line;                           // Declare the line variable to store our user input in\n",
        "        Scanner in = new Scanner(System.in);   // Initialize Scanner and set it up in a variable called 'in', which we'll use\n",
        "                                               // to call Scanner methods via in.nextLine()\n",
        "\n",
        "        System.out.print(\"Enter some text \");  // prompt the user for input\n",
        "        //line = in.nextLine();                  // grab the user input and put it into the line variable\n",
        "        System.out.println(\"Here is the text you entered: \" + line); // print our message and the contents of the line variable back\n",
        "                                                                     // to the user.\n",
        "    }\n",
        "}"
      ],
      "metadata": {
        "id": "ByfauPbgPYr5"
      },
      "execution_count": null,
      "outputs": []
    },
    {
      "cell_type": "markdown",
      "source": [
        ""
      ],
      "metadata": {
        "id": "1wcXqYDEenbV"
      }
    },
    {
      "cell_type": "markdown",
      "source": [
        "lab answer #1 \n"
      ],
      "metadata": {
        "id": "6auANxcSeSQP"
      }
    },
    {
      "cell_type": "code",
      "source": [
        "Lab1.java:7: error: cannot find symbol\n",
        "        Scanner in = new Scanner(System.in);   // Initialize Scanner and set it up in a variable called 'in', which we'll use\n",
        "        ^\n",
        "  symbol:   class Scanner\n",
        "  location: class Lab1\n",
        "Lab1.java:7: error: cannot find symbol\n",
        "        Scanner in = new Scanner(System.in);   // Initialize Scanner and set it up in a variable called 'in', which we'll use\n",
        "                         ^\n",
        "  symbol:   class Scanner\n",
        "  location: class Lab1\n",
        "2 errors\n",
        "Error: Could not find or load main class Lab1\n",
        "Caused by: java.lang.ClassNotFoundException: Lab1"
      ],
      "metadata": {
        "id": "2Egv6G1qeaWx"
      },
      "execution_count": null,
      "outputs": []
    },
    {
      "cell_type": "code",
      "source": [
        "!javac Lab1.java\n",
        "!java Lab1"
      ],
      "metadata": {
        "id": "pFcHEl3QUf1l"
      },
      "execution_count": null,
      "outputs": []
    },
    {
      "cell_type": "markdown",
      "source": [
        "lab answers # 2 \n"
      ],
      "metadata": {
        "id": "GMS7cGd8gWKN"
      }
    },
    {
      "cell_type": "code",
      "source": [
        "Lab1.java:11: error: cannot find symbol\n",
        "        line = in.nextLine();                  // grab the user input and put it into the line variable\n",
        "        ^\n",
        "  symbol:   variable line\n",
        "  location: class Lab1\n",
        "Lab1.java:12: error: cannot find symbol\n",
        "        System.out.println(\"Here is the text you entered: \" + line); // print our message and the contents of the line variable back\n",
        "                                                              ^\n",
        "  symbol:   variable line\n",
        "  location: class Lab1\n",
        "2 errors\n",
        "Error: Could not find or load main class Lab1\n",
        "Caused by: java.lang.ClassNotFoundException: Lab1"
      ],
      "metadata": {
        "id": "LFeRF_q-gT90"
      },
      "execution_count": null,
      "outputs": []
    },
    {
      "cell_type": "markdown",
      "source": [
        "Run the code below containting `System.out.printf(\"inches = %d\" + inch);` you will get an error.  Record the error.  It gives you a lot of information.  In addition to recording the error in full, also record:\n",
        "\n",
        "1. The line number the error occured on.\n",
        "2. Where the little ^ thinks the missing symbol is that is causing the error.\n",
        "3. The name of the exception."
      ],
      "metadata": {
        "id": "DmkG2phlQgCH"
      }
    },
    {
      "cell_type": "code",
      "source": [
        "%%writefile Lab2.java\n",
        "import java.util.Scanner;  // Import the Scanner class \n",
        "\n",
        "public class Lab2 {\n",
        "\n",
        "    public static void main(String[] args) {\n",
        "        System.out.printf(\"inches = %d\" + inch);\n",
        "\n",
        "    }\n",
        "}"
      ],
      "metadata": {
        "id": "V_mHmzUmQhZf"
      },
      "execution_count": null,
      "outputs": []
    },
    {
      "cell_type": "markdown",
      "source": [
        "1. line 7 \n",
        "\n",
        "2. inch \n",
        "\n",
        "3. classNotFoundException:"
      ],
      "metadata": {
        "id": "IMZIlYb1hfDY"
      }
    },
    {
      "cell_type": "code",
      "source": [
        "!javac Lab2.java\n",
        "!java Lab2"
      ],
      "metadata": {
        "id": "hh-CJ6zhQnBA"
      },
      "execution_count": null,
      "outputs": []
    },
    {
      "cell_type": "markdown",
      "source": [
        "lab answer #3"
      ],
      "metadata": {
        "id": "wN-HYqPGgv2d"
      }
    },
    {
      "cell_type": "code",
      "source": [
        "Lab2.java:6: error: cannot find symbol\n",
        "        System.out.printf(\"inches = %d\" + inch);\n",
        "                                          ^\n",
        "  symbol:   variable inch\n",
        "  location: class Lab2\n",
        "1 error\n",
        "Error: Could not find or load main class Lab2\n",
        "Caused by: java.lang.ClassNotFoundException: Lab2"
      ],
      "metadata": {
        "id": "YWJsDu1ZguoM"
      },
      "execution_count": null,
      "outputs": []
    },
    {
      "cell_type": "markdown",
      "source": [
        ""
      ],
      "metadata": {
        "id": "A0Mo561idtEc"
      }
    },
    {
      "cell_type": "code",
      "source": [
        ""
      ],
      "metadata": {
        "id": "dgjgbSxNdsqj"
      },
      "execution_count": null,
      "outputs": []
    },
    {
      "cell_type": "markdown",
      "source": [
        "lab answers #4"
      ],
      "metadata": {
        "id": "eB8LjlJOhLD4"
      }
    },
    {
      "cell_type": "code",
      "source": [
        "Lab2.java:6: error: cannot find symbol\n",
        "        System.out.printf(\"inches = %d\" + inch);\n",
        "                                          ^\n",
        "  symbol:   variable inch\n",
        "  location: class Lab2\n",
        "1 error\n",
        "Error: Could not find or load main class Lab2\n",
        "Caused by: java.lang.ClassNotFoundException: Lab2"
      ],
      "metadata": {
        "id": "k1gTkb1bhGlP"
      },
      "execution_count": null,
      "outputs": []
    }
  ]
}